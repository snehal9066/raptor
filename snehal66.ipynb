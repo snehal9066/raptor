{
  "nbformat": 4,
  "nbformat_minor": 0,
  "metadata": {
    "colab": {
      "provenance": [],
      "authorship_tag": "ABX9TyNwPpZCyV8o0OSnyHgbj7/i",
      "include_colab_link": true
    },
    "kernelspec": {
      "name": "python3",
      "display_name": "Python 3"
    },
    "language_info": {
      "name": "python"
    }
  },
  "cells": [
    {
      "cell_type": "markdown",
      "metadata": {
        "id": "view-in-github",
        "colab_type": "text"
      },
      "source": [
        "<a href=\"https://colab.research.google.com/github/snehal9066/raptor/blob/main/snehal66.ipynb\" target=\"_parent\"><img src=\"https://colab.research.google.com/assets/colab-badge.svg\" alt=\"Open In Colab\"/></a>"
      ]
    },
    {
      "cell_type": "code",
      "execution_count": 3,
      "metadata": {
        "colab": {
          "base_uri": "https://localhost:8080/"
        },
        "id": "nMIwmoY6JAwR",
        "outputId": "c0261b93-c87d-4d71-c1bc-b7d1d0de5cb2"
      },
      "outputs": [
        {
          "output_type": "stream",
          "name": "stdout",
          "text": [
            "Hello World\n",
            "Hello World\n",
            "Hello*World\n"
          ]
        }
      ],
      "source": [
        "print(\"Hello World\")\n",
        "\n",
        "print(\"Hello\",end=\" \")\n",
        "print(\"World\")\n",
        "\n",
        "print(\"Hello\",\"World\",sep=\"*\")"
      ]
    },
    {
      "cell_type": "code",
      "source": [
        "#integer\n",
        "digit = 5\n",
        "print(digit)\n",
        "print(type(digit))\n",
        "\n"
      ],
      "metadata": {
        "colab": {
          "base_uri": "https://localhost:8080/"
        },
        "id": "BxStSsOJLRJj",
        "outputId": "8aed8920-7a03-4140-b21f-7b733c4d6572"
      },
      "execution_count": 5,
      "outputs": [
        {
          "output_type": "stream",
          "name": "stdout",
          "text": [
            "5\n",
            "<class 'int'>\n"
          ]
        }
      ]
    },
    {
      "cell_type": "code",
      "source": [
        "#string\n",
        "digit = '10'\n",
        "print(digit)\n",
        "print(type(digit))"
      ],
      "metadata": {
        "colab": {
          "base_uri": "https://localhost:8080/"
        },
        "id": "ZjyKKk8vM_Nc",
        "outputId": "2488adb0-150b-4e70-a8ef-d357b965fd75"
      },
      "execution_count": 6,
      "outputs": [
        {
          "output_type": "stream",
          "name": "stdout",
          "text": [
            "10\n",
            "<class 'str'>\n"
          ]
        }
      ]
    },
    {
      "cell_type": "code",
      "source": [
        "#float\n",
        "pi = 3.14\n",
        "print(pi)\n",
        "print(type(pi))"
      ],
      "metadata": {
        "colab": {
          "base_uri": "https://localhost:8080/"
        },
        "id": "Z9h8rJ3zNQs7",
        "outputId": "fdf8ad0c-18fe-4bd9-bf97-5681172c3985"
      },
      "execution_count": 7,
      "outputs": [
        {
          "output_type": "stream",
          "name": "stdout",
          "text": [
            "3.14\n",
            "<class 'float'>\n"
          ]
        }
      ]
    },
    {
      "cell_type": "code",
      "source": [
        "#boolean\n",
        "isprime = True\n",
        "print(isprime)\n",
        "print(type(isprime))\n"
      ],
      "metadata": {
        "colab": {
          "base_uri": "https://localhost:8080/"
        },
        "id": "lTmqDi2JNkg0",
        "outputId": "faca9791-cf52-420d-8aa1-e0ea6eb61ec2"
      },
      "execution_count": 8,
      "outputs": [
        {
          "output_type": "stream",
          "name": "stdout",
          "text": [
            "True\n",
            "<class 'bool'>\n"
          ]
        }
      ]
    },
    {
      "cell_type": "code",
      "source": [
        "#complex\n",
        "z = 5+4j\n",
        "print(z)\n",
        "print(type(z))"
      ],
      "metadata": {
        "colab": {
          "base_uri": "https://localhost:8080/"
        },
        "id": "5nIPh9uKN6Cc",
        "outputId": "cd5fe78e-7a8b-4814-f753-a57dd9771e62"
      },
      "execution_count": 9,
      "outputs": [
        {
          "output_type": "stream",
          "name": "stdout",
          "text": [
            "(5+4j)\n",
            "<class 'complex'>\n"
          ]
        }
      ]
    },
    {
      "cell_type": "code",
      "source": [
        "s = input()\n",
        "print(s)"
      ],
      "metadata": {
        "colab": {
          "base_uri": "https://localhost:8080/"
        },
        "id": "1uDPCdFRPCWk",
        "outputId": "4e728bfd-cd6d-4e62-e24a-a37f02ded92c"
      },
      "execution_count": 11,
      "outputs": [
        {
          "output_type": "stream",
          "name": "stdout",
          "text": [
            "Welcome\n",
            "Welcome\n"
          ]
        }
      ]
    },
    {
      "cell_type": "code",
      "source": [
        "name = input(\"Enter your name : \")\n",
        "print(\"Your name is\",name)"
      ],
      "metadata": {
        "colab": {
          "base_uri": "https://localhost:8080/"
        },
        "id": "W0sZUaB7PQPk",
        "outputId": "89820f40-0bfe-401f-cffd-c5ed0d2459c3"
      },
      "execution_count": 12,
      "outputs": [
        {
          "output_type": "stream",
          "name": "stdout",
          "text": [
            "Enter your name : SNEHAL \n",
            "Your name is SNEHAL \n"
          ]
        }
      ]
    },
    {
      "cell_type": "code",
      "source": [
        "print(type(s))\n",
        "print(type(name))"
      ],
      "metadata": {
        "colab": {
          "base_uri": "https://localhost:8080/"
        },
        "id": "bxcX5DFcPzf8",
        "outputId": "5e623029-83d8-4447-ef9e-a7e9ce7e6551"
      },
      "execution_count": 13,
      "outputs": [
        {
          "output_type": "stream",
          "name": "stdout",
          "text": [
            "<class 'str'>\n",
            "<class 'str'>\n"
          ]
        }
      ]
    },
    {
      "cell_type": "code",
      "source": [
        "age = int(input(\"Enter your age here : \"))\n",
        "#age = int(age\n",
        "print(age)\n",
        "print(type(age))"
      ],
      "metadata": {
        "colab": {
          "base_uri": "https://localhost:8080/"
        },
        "id": "J26xFckbQif9",
        "outputId": "943c0902-d2f3-431d-dd28-e5472917e622"
      },
      "execution_count": 16,
      "outputs": [
        {
          "output_type": "stream",
          "name": "stdout",
          "text": [
            "Enter your age here : 19\n",
            "19\n",
            "<class 'int'>\n"
          ]
        }
      ]
    },
    {
      "cell_type": "code",
      "source": [
        "weight = float(input(\"Enter your weight here : \"))\n",
        "print(weight)\n",
        "print(type(weight))\n",
        ""
      ],
      "metadata": {
        "colab": {
          "base_uri": "https://localhost:8080/"
        },
        "id": "3Hb1G1MMQ-X9",
        "outputId": "90929ca9-e462-4a84-cf4b-d8cb58b5b932"
      },
      "execution_count": 17,
      "outputs": [
        {
          "output_type": "stream",
          "name": "stdout",
          "text": [
            "Enter your weight here : 59\n",
            "59.0\n",
            "<class 'float'>\n"
          ]
        }
      ]
    },
    {
      "cell_type": "code",
      "source": [
        "from IPython.core.display import b2a_base64\n",
        "a = 8\n",
        "b = 4\n",
        "\n",
        "sum = a+b\n",
        "print(sum)\n",
        "\n",
        "difference = a-b\n",
        "print(diff)\n",
        "\n",
        "product = a*b\n",
        "print(pro)\n",
        "\n",
        "ratio = a/b\n",
        "print(ratio)\n",
        "\n",
        "rem = a%b\n",
        "print(rem)\n",
        "\n",
        "quo = a//b\n",
        "print(quo)"
      ],
      "metadata": {
        "colab": {
          "base_uri": "https://localhost:8080/"
        },
        "id": "orG5J0QARVF9",
        "outputId": "3addf038-1d03-42fd-a649-4e9d6966caf1"
      },
      "execution_count": 19,
      "outputs": [
        {
          "output_type": "stream",
          "name": "stdout",
          "text": [
            "12\n",
            "4\n",
            "32\n",
            "2.0\n",
            "0\n",
            "2\n"
          ]
        }
      ]
    },
    {
      "cell_type": "markdown",
      "source": [
        "Write a program to print the sum and average of 3 numbers."
      ],
      "metadata": {
        "id": "NN93WjQ4Snxt"
      }
    },
    {
      "cell_type": "code",
      "source": [
        "number1 = int(input(\"Enter your first number here : \"))\n",
        "number2 = int(input(\"Enter tour second number here : \"))\n",
        "number3 = int(input(\"Enter your third number here : \")\n",
        "\n",
        "sum = number1 + number2 + number3\n",
        "average ="
      ],
      "metadata": {
        "id": "JqEE7TmIS0h9"
      },
      "execution_count": null,
      "outputs": []
    }
  ]
}